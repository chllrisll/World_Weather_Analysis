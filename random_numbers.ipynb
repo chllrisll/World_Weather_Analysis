{
 "cells": [
  {
   "cell_type": "code",
   "execution_count": 2,
   "id": "68e546af",
   "metadata": {},
   "outputs": [],
   "source": [
    "# Import the random module.\n",
    "import random"
   ]
  },
  {
   "cell_type": "code",
   "execution_count": 4,
   "id": "ca3d316b",
   "metadata": {},
   "outputs": [
    {
     "data": {
      "text/plain": [
       "4"
      ]
     },
     "execution_count": 4,
     "metadata": {},
     "output_type": "execute_result"
    }
   ],
   "source": [
    "random.randint(-90, 90)"
   ]
  },
  {
   "cell_type": "code",
   "execution_count": 5,
   "id": "1d72624a",
   "metadata": {},
   "outputs": [
    {
     "data": {
      "text/plain": [
       "0.5501718772223106"
      ]
     },
     "execution_count": 5,
     "metadata": {},
     "output_type": "execute_result"
    }
   ],
   "source": [
    "random.random()"
   ]
  },
  {
   "cell_type": "code",
   "execution_count": 6,
   "id": "9613f086",
   "metadata": {},
   "outputs": [
    {
     "data": {
      "text/plain": [
       "33.485200591622416"
      ]
     },
     "execution_count": 6,
     "metadata": {},
     "output_type": "execute_result"
    }
   ],
   "source": [
    "random_number = random.randint(-90, 89) + random.random()\n",
    "random_number"
   ]
  },
  {
   "cell_type": "code",
   "execution_count": 12,
   "id": "fc91eb2d",
   "metadata": {},
   "outputs": [
    {
     "data": {
      "text/plain": [
       "[45.449497203854946,\n",
       " -11.741652918159755,\n",
       " -31.403328234737543,\n",
       " 70.83949813856954,\n",
       " 53.5281882365872,\n",
       " -10.911306983379172,\n",
       " 78.98587591241036,\n",
       " -61.092174895330885,\n",
       " -50.64078525631454,\n",
       " -51.983251090902364]"
      ]
     },
     "execution_count": 12,
     "metadata": {},
     "output_type": "execute_result"
    }
   ],
   "source": [
    "x = 1\n",
    "latitudes = []\n",
    "while x < 11:\n",
    "    random_lat = random.randint(-90, 89) + random.random()\n",
    "    latitudes.append(random_lat)\n",
    "    x += 1\n",
    "    \n",
    "latitudes"
   ]
  },
  {
   "cell_type": "code",
   "execution_count": 13,
   "id": "60126c99",
   "metadata": {},
   "outputs": [
    {
     "data": {
      "text/plain": [
       "86"
      ]
     },
     "execution_count": 13,
     "metadata": {},
     "output_type": "execute_result"
    }
   ],
   "source": [
    "random.randrange(-90, 90, step=1)"
   ]
  },
  {
   "cell_type": "code",
   "execution_count": 14,
   "id": "d310987c",
   "metadata": {},
   "outputs": [
    {
     "data": {
      "text/plain": [
       "-54"
      ]
     },
     "execution_count": 14,
     "metadata": {},
     "output_type": "execute_result"
    }
   ],
   "source": [
    "random.randrange(-90, 90, step=3)"
   ]
  },
  {
   "cell_type": "code",
   "execution_count": 15,
   "id": "3710b82a",
   "metadata": {},
   "outputs": [
    {
     "data": {
      "text/plain": [
       "19.44473890742475"
      ]
     },
     "execution_count": 15,
     "metadata": {},
     "output_type": "execute_result"
    }
   ],
   "source": [
    "random.uniform(-90, 90)"
   ]
  },
  {
   "cell_type": "code",
   "execution_count": 16,
   "id": "8ed3782a",
   "metadata": {},
   "outputs": [],
   "source": [
    "# Import the NumPy module.\n",
    "import numpy as np"
   ]
  },
  {
   "cell_type": "code",
   "execution_count": 17,
   "id": "84312ebc",
   "metadata": {},
   "outputs": [
    {
     "data": {
      "text/plain": [
       "-18.31018342974984"
      ]
     },
     "execution_count": 17,
     "metadata": {},
     "output_type": "execute_result"
    }
   ],
   "source": [
    "np.random.uniform(-90.000, 90.000)"
   ]
  },
  {
   "cell_type": "code",
   "execution_count": 18,
   "id": "e8b5caac",
   "metadata": {},
   "outputs": [
    {
     "data": {
      "text/plain": [
       "-59.8636378940134"
      ]
     },
     "execution_count": 18,
     "metadata": {},
     "output_type": "execute_result"
    }
   ],
   "source": [
    "np.random.uniform(low=-90, high=90)"
   ]
  },
  {
   "cell_type": "code",
   "execution_count": 19,
   "id": "61077f72",
   "metadata": {},
   "outputs": [
    {
     "data": {
      "text/plain": [
       "array([ 15.71359288, -30.18162596,  11.14652714, -71.63944805,\n",
       "        63.73578384,  -6.66255156,  70.00357188,  -3.89299362,\n",
       "       -51.266275  ,  49.59595807,  44.22691634,  59.46843172,\n",
       "        82.78143406, -14.76761671,  37.27198955, -15.79024466,\n",
       "       -31.50118876,  55.32484853,  17.8225112 ,  34.20847924,\n",
       "        22.8929229 , -62.72138867,  12.2482763 ,  -1.59241942,\n",
       "        79.51581539,  38.58949282, -43.0393444 ,  -5.55136424,\n",
       "       -73.91331173, -55.33028228, -49.99026347,  84.3855273 ,\n",
       "       -67.25575982, -19.61492553, -11.21555891,  18.92979996,\n",
       "       -87.10374426,  26.0721133 , -13.91803086,  73.3300643 ,\n",
       "        -3.90625441, -46.37246972,  82.32338678, -16.1273492 ,\n",
       "       -65.51280107,  20.60276773, -89.81959866, -85.00530231,\n",
       "       -60.89833898, -53.39604559])"
      ]
     },
     "execution_count": 19,
     "metadata": {},
     "output_type": "execute_result"
    }
   ],
   "source": [
    "np.random.uniform(-90.000, 90.000, size=50)"
   ]
  },
  {
   "cell_type": "code",
   "execution_count": 20,
   "id": "040c10fe",
   "metadata": {},
   "outputs": [],
   "source": [
    "# Import timeit.\n",
    "import timeit"
   ]
  },
  {
   "cell_type": "code",
   "execution_count": 21,
   "id": "7d3f2c64",
   "metadata": {},
   "outputs": [
    {
     "name": "stdout",
     "output_type": "stream",
     "text": [
      "16.3 µs ± 409 ns per loop (mean ± std. dev. of 7 runs, 100000 loops each)\n"
     ]
    }
   ],
   "source": [
    "%timeit np.random.uniform(-90.000, 90.000, size=1500)"
   ]
  },
  {
   "cell_type": "code",
   "execution_count": 22,
   "id": "2e7e9690",
   "metadata": {},
   "outputs": [
    {
     "name": "stdout",
     "output_type": "stream",
     "text": [
      "1.52 ms ± 14.6 µs per loop (mean ± std. dev. of 7 runs, 1000 loops each)\n"
     ]
    }
   ],
   "source": [
    "def latitudes(size):\n",
    "    latitudes = []\n",
    "    x = 0\n",
    "    while x < (size):\n",
    "        random_lat = random.randint(-90, 90) + random.random()\n",
    "        latitudes.append(random_lat)\n",
    "        x += 1\n",
    "    return latitudes\n",
    "# Call the function with 1500.\n",
    "%timeit latitudes(1500)"
   ]
  },
  {
   "cell_type": "code",
   "execution_count": null,
   "id": "c0c7cf12",
   "metadata": {},
   "outputs": [],
   "source": []
  }
 ],
 "metadata": {
  "kernelspec": {
   "display_name": "PythonData",
   "language": "python",
   "name": "pythondata"
  },
  "language_info": {
   "codemirror_mode": {
    "name": "ipython",
    "version": 3
   },
   "file_extension": ".py",
   "mimetype": "text/x-python",
   "name": "python",
   "nbconvert_exporter": "python",
   "pygments_lexer": "ipython3",
   "version": "3.8.8"
  }
 },
 "nbformat": 4,
 "nbformat_minor": 5
}
